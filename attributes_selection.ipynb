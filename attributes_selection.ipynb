{
 "cells": [
  {
   "cell_type": "code",
   "execution_count": 14,
   "metadata": {
    "collapsed": true
   },
   "outputs": [],
   "source": [
    "import pandas as pd\n",
    "import numpy as np\n",
    "from sklearn.model_selection import train_test_split\n",
    "from sklearn import linear_model\n",
    "import matplotlib.pyplot as plt\n",
    "import seaborn as sns\n",
    "% matplotlib inline"
   ]
  },
  {
   "cell_type": "code",
   "execution_count": 15,
   "metadata": {
    "collapsed": true
   },
   "outputs": [],
   "source": [
    "df = pd.read_csv(\"test.csv\")"
   ]
  },
  {
   "cell_type": "code",
   "execution_count": 16,
   "metadata": {},
   "outputs": [
    {
     "data": {
      "text/html": [
       "<div>\n",
       "<style>\n",
       "    .dataframe thead tr:only-child th {\n",
       "        text-align: right;\n",
       "    }\n",
       "\n",
       "    .dataframe thead th {\n",
       "        text-align: left;\n",
       "    }\n",
       "\n",
       "    .dataframe tbody tr th {\n",
       "        vertical-align: top;\n",
       "    }\n",
       "</style>\n",
       "<table border=\"1\" class=\"dataframe\">\n",
       "  <thead>\n",
       "    <tr style=\"text-align: right;\">\n",
       "      <th></th>\n",
       "      <th>Company</th>\n",
       "      <th>Company Ticker</th>\n",
       "      <th>Sector</th>\n",
       "      <th>Market Cap</th>\n",
       "      <th>Avg.TSR</th>\n",
       "      <th>avg.ROA</th>\n",
       "      <th>avg.ROE</th>\n",
       "      <th>avg.EPS</th>\n",
       "      <th>ma_per_year</th>\n",
       "      <th>div _per_year</th>\n",
       "      <th>Acq_per_year</th>\n",
       "      <th>Div as % deal value</th>\n",
       "      <th>Deal intensity</th>\n",
       "    </tr>\n",
       "  </thead>\n",
       "  <tbody>\n",
       "    <tr>\n",
       "      <th>0</th>\n",
       "      <td>Alterra Limited</td>\n",
       "      <td>ASX:1AG</td>\n",
       "      <td>Industrials</td>\n",
       "      <td>4.73880</td>\n",
       "      <td>-0.134964</td>\n",
       "      <td>0.002032</td>\n",
       "      <td>-0.022584</td>\n",
       "      <td>-0.000132</td>\n",
       "      <td>0.0</td>\n",
       "      <td>0.0</td>\n",
       "      <td>0.0</td>\n",
       "      <td>0.000000</td>\n",
       "      <td>0.739903</td>\n",
       "    </tr>\n",
       "    <tr>\n",
       "      <th>1</th>\n",
       "      <td>Oneall International Limited</td>\n",
       "      <td>ASX:1AL</td>\n",
       "      <td>Consumer Discretionary</td>\n",
       "      <td>118.03500</td>\n",
       "      <td>-0.042105</td>\n",
       "      <td>0.000000</td>\n",
       "      <td>0.000000</td>\n",
       "      <td>0.000274</td>\n",
       "      <td>0.5</td>\n",
       "      <td>0.0</td>\n",
       "      <td>0.1</td>\n",
       "      <td>0.000000</td>\n",
       "      <td>0.033018</td>\n",
       "    </tr>\n",
       "    <tr>\n",
       "      <th>2</th>\n",
       "      <td>3P Learning Limited</td>\n",
       "      <td>ASX:3PL</td>\n",
       "      <td>Consumer Discretionary</td>\n",
       "      <td>207.45891</td>\n",
       "      <td>-0.303004</td>\n",
       "      <td>0.210716</td>\n",
       "      <td>0.394262</td>\n",
       "      <td>0.000585</td>\n",
       "      <td>1.0</td>\n",
       "      <td>0.0</td>\n",
       "      <td>0.3</td>\n",
       "      <td>0.000000</td>\n",
       "      <td>0.009096</td>\n",
       "    </tr>\n",
       "    <tr>\n",
       "      <th>3</th>\n",
       "      <td>4DS Memory Limited</td>\n",
       "      <td>ASX:4DS</td>\n",
       "      <td>Information Technology</td>\n",
       "      <td>84.18993</td>\n",
       "      <td>0.898538</td>\n",
       "      <td>-8.357925</td>\n",
       "      <td>-53.819294</td>\n",
       "      <td>-0.032576</td>\n",
       "      <td>0.5</td>\n",
       "      <td>0.1</td>\n",
       "      <td>0.1</td>\n",
       "      <td>0.032258</td>\n",
       "      <td>0.059452</td>\n",
       "    </tr>\n",
       "    <tr>\n",
       "      <th>4</th>\n",
       "      <td>88 Energy Limited</td>\n",
       "      <td>ASX:88E</td>\n",
       "      <td>Energy</td>\n",
       "      <td>135.23014</td>\n",
       "      <td>0.530739</td>\n",
       "      <td>-0.423939</td>\n",
       "      <td>-0.775745</td>\n",
       "      <td>-0.000427</td>\n",
       "      <td>0.2</td>\n",
       "      <td>0.0</td>\n",
       "      <td>0.2</td>\n",
       "      <td>0.000000</td>\n",
       "      <td>0.010364</td>\n",
       "    </tr>\n",
       "  </tbody>\n",
       "</table>\n",
       "</div>"
      ],
      "text/plain": [
       "                        Company Company Ticker                  Sector  \\\n",
       "0               Alterra Limited        ASX:1AG             Industrials   \n",
       "1  Oneall International Limited        ASX:1AL  Consumer Discretionary   \n",
       "2           3P Learning Limited        ASX:3PL  Consumer Discretionary   \n",
       "3            4DS Memory Limited        ASX:4DS  Information Technology   \n",
       "4             88 Energy Limited        ASX:88E                  Energy   \n",
       "\n",
       "   Market Cap   Avg.TSR   avg.ROA    avg.ROE   avg.EPS  ma_per_year  \\\n",
       "0     4.73880 -0.134964  0.002032  -0.022584 -0.000132          0.0   \n",
       "1   118.03500 -0.042105  0.000000   0.000000  0.000274          0.5   \n",
       "2   207.45891 -0.303004  0.210716   0.394262  0.000585          1.0   \n",
       "3    84.18993  0.898538 -8.357925 -53.819294 -0.032576          0.5   \n",
       "4   135.23014  0.530739 -0.423939  -0.775745 -0.000427          0.2   \n",
       "\n",
       "   div _per_year  Acq_per_year  Div as % deal value  Deal intensity  \n",
       "0            0.0           0.0             0.000000        0.739903  \n",
       "1            0.0           0.1             0.000000        0.033018  \n",
       "2            0.0           0.3             0.000000        0.009096  \n",
       "3            0.1           0.1             0.032258        0.059452  \n",
       "4            0.0           0.2             0.000000        0.010364  "
      ]
     },
     "execution_count": 16,
     "metadata": {},
     "output_type": "execute_result"
    }
   ],
   "source": [
    "df.head()"
   ]
  },
  {
   "cell_type": "code",
   "execution_count": 43,
   "metadata": {},
   "outputs": [
    {
     "data": {
      "text/plain": [
       "Index(['Company', 'Company Ticker', 'Sector', 'Market Cap', 'Avg.TSR',\n",
       "       'avg.ROA', 'avg.ROE', 'avg.EPS', 'ma_per_year', 'div _per_year',\n",
       "       'Acq_per_year', 'Div as % deal value', 'Deal intensity'],\n",
       "      dtype='object')"
      ]
     },
     "execution_count": 43,
     "metadata": {},
     "output_type": "execute_result"
    }
   ],
   "source": [
    "df.columns"
   ]
  },
  {
   "cell_type": "code",
   "execution_count": 50,
   "metadata": {},
   "outputs": [],
   "source": [
    "X = df[['Market Cap', 'avg.ROA', 'avg.ROE', 'avg.EPS', 'ma_per_year', 'div _per_year','Acq_per_year', 'Div as % deal value', 'Deal intensity']].values"
   ]
  },
  {
   "cell_type": "code",
   "execution_count": 51,
   "metadata": {
    "collapsed": true
   },
   "outputs": [],
   "source": [
    "y = df['Avg.TSR'].values"
   ]
  },
  {
   "cell_type": "code",
   "execution_count": 66,
   "metadata": {},
   "outputs": [
    {
     "name": "stdout",
     "output_type": "stream",
     "text": [
      "[  4.73880000e+00   2.03180000e-03  -2.25843000e-02  -1.32360000e-04\n",
      "   0.00000000e+00   0.00000000e+00   0.00000000e+00   0.00000000e+00\n",
      "   7.39902507e-01]\n"
     ]
    }
   ],
   "source": [
    "print(X[0])"
   ]
  },
  {
   "cell_type": "code",
   "execution_count": 53,
   "metadata": {
    "collapsed": true
   },
   "outputs": [],
   "source": [
    "X_train, X_test, y_train, y_test = train_test_split(X, y, test_size=0.25, random_state=0)"
   ]
  },
  {
   "cell_type": "code",
   "execution_count": 54,
   "metadata": {},
   "outputs": [
    {
     "name": "stdout",
     "output_type": "stream",
     "text": [
      "[[  1.09003208e+03   2.88580000e-02   5.18927000e-02 ...,   0.00000000e+00\n",
      "    0.00000000e+00   2.99773827e-04]\n",
      " [  4.16598480e+02   1.36142333e-01   2.94033667e-01 ...,   0.00000000e+00\n",
      "    0.00000000e+00   5.80622405e-02]\n",
      " [  2.85862540e+02   5.24242857e-03  -3.92671429e-03 ...,   3.00000000e-01\n",
      "    0.00000000e+00   9.27214069e-02]\n",
      " ..., \n",
      " [  4.76445000e+01   1.40355000e-02   1.78198000e-02 ...,   1.00000000e-01\n",
      "    0.00000000e+00   4.51958371e-01]\n",
      " [  9.68893326e+03   2.31156200e-01   3.42607600e-01 ...,   5.00000000e-01\n",
      "    0.00000000e+00   1.94034752e-03]\n",
      " [  8.81794530e+02   6.26889000e-02   1.47477500e-01 ...,   0.00000000e+00\n",
      "    0.00000000e+00   2.98510740e-02]] [  3.54343967e-02   2.04159465e-01  -4.26775070e-02  -1.45594828e-01\n",
      "   8.73609908e-02  -3.30243379e-01   6.48887892e-02   3.92002673e-01\n",
      "   4.45885460e-01  -6.45566917e-01   1.54883619e-01  -4.68209865e-02\n",
      "  -3.03452795e-01   1.69353808e-01  -6.58676000e-02   2.51020710e-01\n",
      "   3.21966264e-01   6.93124202e-02  -1.04280301e-01   1.71667611e-01\n",
      "  -3.48220070e-01   7.83463236e-03  -9.05564770e-02   1.14966387e-01\n",
      "  -6.79985640e-02  -2.19462374e-02  -3.48813232e-01   8.94402650e-02\n",
      "  -2.79383418e-01  -5.20555407e-01  -4.88156728e-02  -3.91857365e-02\n",
      "   1.95643974e-01  -1.18533507e-01  -3.04354938e-01  -3.38115004e-01\n",
      "  -3.69963165e-01   4.45973369e-02   3.90098353e-01   1.19687344e-02\n",
      "  -7.52065893e-02   2.88100170e-01   1.43452521e-01  -3.16458575e-01\n",
      "   2.66570129e-02  -6.10958437e-03   1.74730560e-01  -1.11805266e-01\n",
      "  -7.96835791e-02   3.89455045e-02  -1.32043627e-01   2.39923397e-01\n",
      "   5.78314505e-01   1.31384052e-01   1.85622279e-02  -8.88409236e-02\n",
      "  -1.01649764e-01   3.94396394e-01   1.20286514e-01  -2.26541892e-01\n",
      "   5.00958507e-02  -6.95520214e-02  -1.47132190e-01   1.24478334e-01\n",
      "  -1.79274831e-01  -1.57992125e-01   3.12016091e-01  -7.21576427e-02\n",
      "   9.72381498e-02   9.90502831e-02  -3.69029752e-01   3.50579542e-01\n",
      "   8.50214217e-02  -4.75595576e-01   1.03363665e-01   5.98570136e-02\n",
      "  -1.89965476e-01   3.46566991e-01   9.62991123e-03   3.96072634e-01\n",
      "  -1.06938455e-01   7.05746605e-01  -2.59959962e-01  -1.81233066e-02\n",
      "  -2.00467182e-01  -2.08220346e-02  -1.99359179e-01  -9.92168308e-02\n",
      "   2.48469621e-02   6.55255788e-02  -8.15782286e-02   1.32450707e-01\n",
      "   2.09021975e-01   1.34529599e-01   3.26848468e-01  -4.62889732e-01\n",
      "  -1.63717510e-01   3.63607965e-01   2.36520401e-01   2.34555634e-01\n",
      "  -2.62250765e-02  -9.80739721e-02   1.57633417e-01  -1.34964459e-01\n",
      "  -1.43912403e-03   3.85217194e-01  -2.19778065e-01  -7.57360134e-02\n",
      "   2.69515830e-02  -1.19920115e-01   1.06521746e+00   1.32495114e-01\n",
      "  -1.40663260e-01  -2.65336297e-02  -4.22685313e-01  -5.96731008e-02\n",
      "   1.77357025e-01   7.12238251e-02   7.32050808e-01   4.15102860e-01\n",
      "  -2.04627797e-01   5.96254397e-01  -1.48410396e-02  -3.50808736e-01\n",
      "   9.90032842e-03   1.25839596e-01  -1.36332609e-01  -1.69032123e-01\n",
      "   6.22918886e-02  -2.28357715e-01   6.81068471e-02   8.98538192e-01\n",
      "  -1.38643240e-01  -1.16559125e-01  -2.47899281e-01   8.59285128e-02\n",
      "   1.83587278e-01   3.36180617e-02   2.74011865e-01  -4.64005888e-02\n",
      "   9.58240910e-02   5.78322409e-02  -8.23101748e-02  -1.47682311e-02\n",
      "   3.55432906e-01   8.54955514e-02   1.39456839e-01   4.92067648e-01\n",
      "   5.80944735e-02  -8.39542332e-01  -9.09024977e-02  -5.25755181e-01\n",
      "  -2.08355302e-01   5.52130798e-02   1.36179573e-01   1.44991750e+00\n",
      "   9.51848214e-02   3.17886825e-01  -2.02498229e-01   7.64476853e-02\n",
      "  -2.32641846e-01   7.19224860e-02  -8.70094314e-02  -1.18065785e-01\n",
      "   6.16434884e-03   1.16905943e-01   1.66622251e-01  -3.68986850e-01\n",
      "  -2.73906419e-02   3.72375403e-02   7.72357204e-03   1.03193043e-01\n",
      "   1.66098268e-01   5.76421817e-01  -1.46849003e-01   2.11285148e-01\n",
      "   3.53585991e-01   6.76825809e-02   1.71684939e-01  -3.97474817e-03\n",
      "   1.19491424e-01  -7.41965220e-02  -1.59909968e-01   2.66116899e-01\n",
      "   5.55804397e-02   2.18251110e-02   2.48668243e-01  -6.28436807e-01\n",
      "   2.84413848e-01   4.53644749e-02   4.99235115e-02   2.07488943e-02\n",
      "   1.21233467e-01  -4.03776151e-01   1.80577377e-01  -5.92461265e-02\n",
      "  -2.90139178e-01   6.53406431e-02   1.08761480e-01   4.75249201e-02\n",
      "   3.70776631e-02  -8.69910119e-02   6.58318229e-02  -8.85242595e-02\n",
      "  -1.21066997e-01  -6.31902233e-01   4.64684015e-01   1.92332268e-02\n",
      "   5.44834147e-02  -3.06150336e-01   4.06224672e-01  -9.44273712e-02\n",
      "  -1.27274503e-01  -1.13194084e-01   2.22806787e-02   4.28210889e-01\n",
      "   5.90676622e-02   1.73549331e-01  -1.27199782e-01  -3.30872411e-02\n",
      "  -2.28973825e-01   2.62268775e-01   3.03447536e-01   3.53757058e-02\n",
      "   7.58514621e-02   5.90800626e-01  -9.95535213e-02   5.30739328e-01\n",
      "  -2.32072821e-01  -2.12531454e-01  -3.97356481e-02  -2.83270594e-01\n",
      "   1.39192617e-01   1.20933084e-01   1.88624789e-01  -1.21867049e-02\n",
      "   2.00431657e-01  -2.86261731e-01  -2.36786637e-01  -1.20398255e-01\n",
      "   7.05953081e-02  -6.04789251e-02  -2.34500005e-03   9.28280976e-02\n",
      "  -6.62257660e-02   7.90497582e-02   8.49975161e-01   6.09033875e-02\n",
      "  -1.25355523e-01   6.34225142e-02  -2.92450100e-01   7.28076084e-01\n",
      "  -9.99546833e-03   3.82446010e-04  -2.13219009e-01  -1.84707804e-01\n",
      "   1.37978278e-01  -7.15249654e-02  -7.09624717e-03   3.94489570e-02\n",
      "   1.32027837e+00  -2.76315649e-01  -2.11019630e-01   5.51118327e-01\n",
      "   3.33028598e-01  -2.08698149e-01   1.13193457e-01   2.21065518e-01\n",
      "   2.88428887e-02   2.91505889e-01  -1.27268636e-01   2.20367273e-01\n",
      "   1.18960481e-01   8.14513223e-02  -4.31397601e-01   2.37678121e-01\n",
      "   6.21897322e-02  -2.06556416e-01   5.56059407e-02  -2.43801574e-01\n",
      "  -2.10912897e-01  -9.16167563e-02   1.16853035e-01   4.12417636e-02\n",
      "  -8.30104251e-02  -3.38378812e-01   2.68582116e-01  -5.98411486e-03\n",
      "  -1.09010293e-01  -2.06127056e-01  -2.56507573e-01  -2.69348743e-01\n",
      "   6.08903294e-01  -6.84183690e-02   2.80605317e-02   2.75700552e-02\n",
      "  -2.09176917e-01   4.12691485e-01   3.37192435e-01  -1.07076541e-01\n",
      "   1.24571999e-01   4.19426911e+00   2.34372538e-01  -1.52462530e-01\n",
      "   9.06287338e-02  -9.37747120e-02   2.03773996e-01   3.36678903e-01\n",
      "  -1.23750760e-01   1.82185242e-03  -2.01077081e-01  -3.03004461e-01\n",
      "   3.07115089e-01  -1.06041791e-01   1.74834878e-01   6.79154129e-02\n",
      "   5.73712634e-02   1.66397868e-01   1.36958883e-01   5.75443346e-03\n",
      "  -1.50708555e-01   7.66843328e-02  -5.29841209e-01  -6.77443241e-01\n",
      "   3.03318642e-01   4.00678368e-03   6.94958898e-03  -5.38088070e-02\n",
      "   3.27001589e-01   7.10977047e-02  -6.63288336e-03  -7.80294292e-02\n",
      "   3.83612140e-03  -1.75745469e-01  -7.92997114e-01  -1.13854055e-01\n",
      "   7.83156599e-01  -1.33993847e-01  -1.30697939e-01  -6.71627431e-02\n",
      "  -1.34486658e-01   2.97130392e-02   1.31221963e-01  -9.67782684e-03\n",
      "  -6.05388389e-02  -8.61902422e-01  -2.29256890e-01  -8.18228290e-03\n",
      "   1.33915575e-01   6.85661794e-01  -9.27881499e-02  -1.76115638e-01\n",
      "   7.03120759e-02  -9.35863414e-03   2.15774461e-02   8.20677791e-02\n",
      "  -2.10007919e-02   1.95229788e-01   3.00797864e-01  -1.47218490e-01\n",
      "  -1.89559445e-01   1.63566813e-02   4.51960545e-01   1.75000527e-01\n",
      "   2.48737748e-01   1.68710013e-01  -3.42802136e-02   6.68649158e-02\n",
      "  -8.58678178e-02  -1.12349964e-01   4.18107644e-01   4.83714917e-02\n",
      "   2.34209428e-01  -7.26084902e-01   3.97203868e-02  -1.06972145e-01\n",
      "  -2.56004781e-01   9.54253713e-02   1.22365293e+00  -2.29353599e-01\n",
      "  -1.35456872e-01  -2.80204372e-01  -7.44258362e-02   5.77437368e-01\n",
      "  -5.39821013e-01  -2.59539414e-02   3.18857974e-01  -2.08100602e-01\n",
      "  -1.37218771e-02   3.51062629e-02   8.81152083e-02   2.18258970e-02\n",
      "  -3.06682962e-01  -5.50082351e-02  -1.65663787e-01   7.93502125e-02\n",
      "  -1.53218234e-01   6.12925877e-02   7.14172695e-02   1.08961037e-01\n",
      "   3.21694642e-02   3.84603414e+00   2.60867431e-01   1.18664041e-01\n",
      "   3.37803093e-01  -1.68370154e-01  -2.46972737e-01  -6.93166879e-01\n",
      "  -1.69058617e-01   1.47207431e+00  -7.67317918e-02  -8.92499993e-01\n",
      "   6.39597914e-01   4.04550310e-01  -2.41309720e-01  -5.41253275e-01\n",
      "   5.89372152e-01   1.60449043e-01   3.95896274e-01  -1.14242890e-01\n",
      "  -1.20462338e-02  -7.53274838e-02   9.82275643e-02  -1.23864742e-01\n",
      "   1.11676164e-02  -9.21534246e-03   1.00775689e-02   7.38506996e-02\n",
      "  -4.66480239e-01   6.71503889e-02   4.18681654e-02   1.89189909e-01\n",
      "  -1.11092201e-01   1.71475037e-01   1.91897287e-01  -2.80781590e-01\n",
      "  -3.95207519e-02  -5.73922980e-02   2.37960758e-01   1.00586408e+00\n",
      "  -1.25390275e-01   5.87876176e-02  -2.10423172e-01  -2.88924660e-01\n",
      "   1.79623058e-01   3.84250878e-02   5.64849894e-02  -6.57338464e-03\n",
      "   1.42306797e-01  -3.67364207e-02  -4.68131970e-02  -1.24688619e-01\n",
      "  -3.23085821e-01  -4.49009179e-03  -5.37668961e-01   2.93129622e-02\n",
      "  -5.54780971e-02  -6.66107302e-02   1.65761290e-01   3.18282925e-02\n",
      "  -6.38636129e-02   2.49278954e-02   3.49984820e-01   1.97340413e-02\n",
      "  -2.86130340e-01  -8.37433549e-02  -2.06495475e-01   9.68597569e-02\n",
      "   1.66687837e+00  -1.29487090e-02  -1.67853921e-01   1.21783965e+00\n",
      "   1.03596820e-01  -2.41116198e-01   4.64863885e-02   8.37609809e-01\n",
      "  -4.78621138e-02   2.59307955e-02   4.33758554e-03   1.14951787e-01\n",
      "   4.91323398e-02   1.30375329e-03  -1.58152544e-01   3.21489639e-01\n",
      "  -9.53563166e-02   2.04702564e-02   2.78338855e-01  -2.64335124e-01\n",
      "   2.96332771e-02   1.17813772e-01   7.93339904e-02   4.34356197e-01\n",
      "   3.57815512e-01   3.94429802e-02   2.79808093e-01  -1.55618809e-02\n",
      "   1.91920128e-02  -1.58386854e-01   2.79496141e-01   2.78434157e-02\n",
      "   5.22541086e-01   1.37377225e-01   1.18600697e-01  -4.04169422e-02\n",
      "  -1.40863097e-01   2.09767912e-01   2.55660160e-01   4.76897821e-02\n",
      "   1.34566642e-01   2.94487965e-02   4.25037874e-02   6.13358125e-02\n",
      "  -4.56847367e-02   7.85327368e-01  -1.86110028e-02   1.56246841e-01\n",
      "  -3.87357115e-02   1.51756467e-03   2.23730891e-01   1.95549345e-01\n",
      "   3.00508509e-02  -2.17278604e-01  -4.10714323e-01   1.20561568e-02\n",
      "  -2.19762408e-01  -2.40193614e-02  -3.17816001e-01   2.69624343e-01\n",
      "   4.78084935e-02  -1.34767153e-01   1.13814245e-01   5.28101285e-01\n",
      "   2.49501454e-01  -7.51406641e-02  -2.34977765e-01  -2.21570724e-01\n",
      "  -3.02263666e-01  -2.05607481e-01   5.55791305e-03  -1.51608668e-01\n",
      "   1.52806125e-01   3.57845481e-01   1.68881213e-01]\n"
     ]
    }
   ],
   "source": [
    "print(X_train, y_train)"
   ]
  },
  {
   "cell_type": "code",
   "execution_count": 67,
   "metadata": {
    "collapsed": true
   },
   "outputs": [],
   "source": [
    "alphas = np.logspace(-4, 0, 20)\n",
    "scores = np.empty_like(alphas)"
   ]
  },
  {
   "cell_type": "code",
   "execution_count": 68,
   "metadata": {},
   "outputs": [
    {
     "name": "stdout",
     "output_type": "stream",
     "text": [
      "[  1.00000000e-04   1.62377674e-04   2.63665090e-04   4.28133240e-04\n",
      "   6.95192796e-04   1.12883789e-03   1.83298071e-03   2.97635144e-03\n",
      "   4.83293024e-03   7.84759970e-03   1.27427499e-02   2.06913808e-02\n",
      "   3.35981829e-02   5.45559478e-02   8.85866790e-02   1.43844989e-01\n",
      "   2.33572147e-01   3.79269019e-01   6.15848211e-01   1.00000000e+00] [-4.         -3.78947368 -3.57894737 -3.36842105 -3.15789474 -2.94736842\n",
      " -2.73684211 -2.52631579 -2.31578947 -2.10526316 -1.89473684 -1.68421053\n",
      " -1.47368421 -1.26315789 -1.05263158 -0.84210526 -0.63157895 -0.42105263\n",
      " -0.21052632  0.        ]\n"
     ]
    }
   ],
   "source": [
    "print(alphas, scores)"
   ]
  },
  {
   "cell_type": "code",
   "execution_count": 69,
   "metadata": {},
   "outputs": [
    {
     "name": "stdout",
     "output_type": "stream",
     "text": [
      "0.0001 [ -6.60435294e-08  -6.47014075e-02  -1.54481362e-03   1.98120290e-02\n",
      "   2.16374109e-02  -4.28267766e-01   3.30684189e-02   1.06747169e-01\n",
      "  -3.88548420e-04]\n",
      "0.000162377673919 [ -6.66916431e-08  -6.43110553e-02  -1.55326666e-03   1.57557394e-02\n",
      "   2.18898875e-02  -4.13902686e-01   3.20157143e-02   1.03962751e-01\n",
      "  -3.88661599e-04]\n",
      "0.000263665089873 [ -6.77440122e-08  -6.36772107e-02  -1.56699251e-03   9.16922987e-03\n",
      "   2.22998491e-02  -3.90577043e-01   3.03063626e-02   9.94414814e-02\n",
      "  -3.88845376e-04]\n",
      "0.000428133239872 [ -6.97504948e-08  -6.26590835e-02  -1.58929143e-03   0.00000000e+00\n",
      "   2.29673563e-02  -3.52663279e-01   2.75312554e-02   9.20964143e-02\n",
      "  -3.89137738e-04]\n",
      "0.000695192796178 [ -7.59132577e-08  -6.11141369e-02  -1.62560931e-03   0.00000000e+00\n",
      "   2.40690094e-02  -2.90727750e-01   2.30299611e-02   8.01351657e-02\n",
      "  -3.89553419e-04]\n",
      "0.00112883789168 [ -8.59202340e-08  -5.86054882e-02  -1.68458144e-03   0.00000000e+00\n",
      "   2.58578525e-02  -1.90158234e-01   1.57208577e-02   6.07127621e-02\n",
      "  -3.90228393e-04]\n",
      "0.00183298071083 [ -1.02169106e-07  -5.45320056e-02  -1.78033893e-03   0.00000000e+00\n",
      "   2.87624964e-02  -2.68561771e-02   3.85255945e-03   2.91751685e-02\n",
      "  -3.91324397e-04]\n",
      "0.00297635144163 [ -5.30148224e-08  -4.87406522e-02  -1.90169890e-03   0.00000000e+00\n",
      "   2.91622390e-02  -0.00000000e+00   5.71824164e-04   1.25077706e-02\n",
      "  -3.92375398e-04]\n",
      "0.00483293023857 [ -6.89287212e-09  -3.99030981e-02  -2.09533498e-03   0.00000000e+00\n",
      "   2.76821840e-02  -0.00000000e+00   0.00000000e+00   0.00000000e+00\n",
      "  -3.92866393e-04]\n",
      "0.00784759970351 [ -3.84385967e-08  -2.63084286e-02  -2.41680239e-03   0.00000000e+00\n",
      "   2.37408240e-02  -0.00000000e+00   0.00000000e+00   0.00000000e+00\n",
      "  -3.91338962e-04]\n",
      "0.012742749857 [ -8.96618137e-08  -4.23372031e-03  -2.93879369e-03   0.00000000e+00\n",
      "   1.73409352e-02  -0.00000000e+00   0.00000000e+00   0.00000000e+00\n",
      "  -3.88858756e-04]\n",
      "0.0206913808111 [ -6.39641235e-08  -0.00000000e+00  -2.88170258e-03   0.00000000e+00\n",
      "   7.94249667e-03  -0.00000000e+00   0.00000000e+00   0.00000000e+00\n",
      "  -3.88570205e-04]\n",
      "0.0335981828628 [ -3.13810517e-08  -0.00000000e+00  -2.61046064e-03   0.00000000e+00\n",
      "   0.00000000e+00  -0.00000000e+00   0.00000000e+00   0.00000000e+00\n",
      "  -3.88264321e-04]\n",
      "0.0545559478117 [ -3.80762927e-08  -0.00000000e+00  -2.20309168e-03   0.00000000e+00\n",
      "   0.00000000e+00  -0.00000000e+00   0.00000000e+00   0.00000000e+00\n",
      "  -3.86586548e-04]\n",
      "0.088586679041 [ -4.89478693e-08  -0.00000000e+00  -1.54161544e-03   0.00000000e+00\n",
      "   0.00000000e+00  -0.00000000e+00   0.00000000e+00   0.00000000e+00\n",
      "  -3.83862219e-04]\n",
      "0.143844988829 [ -6.66008826e-08  -0.00000000e+00  -4.67525713e-04   0.00000000e+00\n",
      "   0.00000000e+00  -0.00000000e+00   0.00000000e+00   0.00000000e+00\n",
      "  -3.79438517e-04]\n",
      "0.233572146909 [ -7.22446496e-08  -0.00000000e+00  -0.00000000e+00   0.00000000e+00\n",
      "   0.00000000e+00  -0.00000000e+00   0.00000000e+00   0.00000000e+00\n",
      "  -3.71857678e-04]\n",
      "0.379269019073 [ -6.77168032e-08  -0.00000000e+00  -0.00000000e+00   0.00000000e+00\n",
      "   0.00000000e+00  -0.00000000e+00   0.00000000e+00   0.00000000e+00\n",
      "  -3.59311553e-04]\n",
      "0.615848211066 [ -6.03645915e-08  -0.00000000e+00  -0.00000000e+00   0.00000000e+00\n",
      "   0.00000000e+00  -0.00000000e+00   0.00000000e+00   0.00000000e+00\n",
      "  -3.38939448e-04]\n",
      "1.0 [ -4.84262413e-08  -0.00000000e+00  -0.00000000e+00   0.00000000e+00\n",
      "   0.00000000e+00  -0.00000000e+00   0.00000000e+00   0.00000000e+00\n",
      "  -3.05859697e-04]\n"
     ]
    }
   ],
   "source": [
    "for i, a in enumerate(alphas):\n",
    "    lasso = linear_model.Lasso()\n",
    "    lasso.set_params(alpha=a)\n",
    "    lasso.fit(X_train, y_train)\n",
    "    scores[i] = lasso.score(X_test, y_test)\n",
    "    print(a, lasso.coef_)"
   ]
  },
  {
   "cell_type": "code",
   "execution_count": 70,
   "metadata": {},
   "outputs": [
    {
     "name": "stdout",
     "output_type": "stream",
     "text": [
      "CV [ -1.16560634e-07  -0.00000000e+00  -0.00000000e+00   0.00000000e+00\n",
      "   0.00000000e+00  -0.00000000e+00   0.00000000e+00   0.00000000e+00\n",
      "  -4.03694111e-04] 0.00455387661787 0.148606057208\n"
     ]
    }
   ],
   "source": [
    "lassocv = linear_model.LassoCV()\n",
    "lassocv.fit(X, y)\n",
    "lassocv_score = lassocv.score(X, y)\n",
    "lassocv_alpha = lassocv.alpha_\n",
    "print('CV', lassocv.coef_, lassocv_score, lassocv_alpha)"
   ]
  },
  {
   "cell_type": "code",
   "execution_count": 71,
   "metadata": {},
   "outputs": [
    {
     "data": {
      "image/png": "[encoded data removed]",
      "text/plain": [
       "<matplotlib.figure.Figure at 0x1a757867550>"
      ]
     },
     "metadata": {},
     "output_type": "display_data"
    }
   ],
   "source": [
    "plt.plot(alphas, scores, '-ko')\n",
    "plt.axhline(lassocv_score, color='r', ls='--')\n",
    "plt.axvline(lassocv_alpha, color='r', ls='--')\n",
    "plt.xlabel(r'$\\alpha$')\n",
    "plt.ylabel('Score')\n",
    "plt.xscale('log')\n",
    "#sns.despine(offset=15)"
   ]
  },
  {
   "cell_type": "code",
   "execution_count": null,
   "metadata": {
    "collapsed": true
   },
   "outputs": [],
   "source": []
  }
 ],
 "metadata": {
  "kernelspec": {
   "display_name": "Python 3",
   "language": "python",
   "name": "python3"
  },
  "language_info": {
   "codemirror_mode": {
    "name": "ipython",
    "version": 3
   },
   "file_extension": ".py",
   "mimetype": "text/x-python",
   "name": "python",
   "nbconvert_exporter": "python",
   "pygments_lexer": "ipython3",
   "version": "3.6.1"
  }
 },
 "nbformat": 4,
 "nbformat_minor": 2
}
